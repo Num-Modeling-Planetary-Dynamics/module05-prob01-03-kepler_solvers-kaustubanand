{
 "cells": [
  {
   "cell_type": "code",
   "execution_count": 40,
   "id": "013ab38b-5204-4406-8f59-e79633fd717d",
   "metadata": {},
   "outputs": [],
   "source": [
    "import numpy as np\n",
    "import matplotlib.pyplot as plt\n",
    "import pandas as pd\n"
   ]
  },
  {
   "cell_type": "code",
   "execution_count": 41,
   "id": "bd4c6be2-1838-4b8b-9453-607f32fdb2ce",
   "metadata": {},
   "outputs": [],
   "source": [
    "# Solve Kepler's equation - Q1-3\n",
    "# E = M + e * sin(E)\n",
    "\n",
    "#define global constants\n",
    "e = 0.1\n",
    "M_deg = 5 # degrees\n",
    "M = 5 * (np.pi / 180) # convert to radians\n",
    "E_0 = M # degrees\n"
   ]
  },
  {
   "cell_type": "code",
   "execution_count": 42,
   "id": "29743016-a4fb-4582-b592-7130aa22f393",
   "metadata": {},
   "outputs": [],
   "source": [
    "# define global functions\n",
    "def f(E):\n",
    "    f_val = E - e * np.sin(E) - M\n",
    "    return f_val\n",
    "\n",
    "def f_prime(E):\n",
    "    f_pr = 1 - e * np.cos(E)\n",
    "    return f_pr\n",
    "\n",
    "def f_2prime(E):\n",
    "    f_2pr = e * np.sin(E)\n",
    "    return f_2pr\n",
    "\n",
    "def f_3prime(E):\n",
    "    f_3pr = e * np.cos(E)\n",
    "    return f_3pr\n",
    "\n"
   ]
  },
  {
   "cell_type": "code",
   "execution_count": 43,
   "id": "d36dd5ef-4713-4aa6-9489-e7c4b0c008d7",
   "metadata": {},
   "outputs": [
    {
     "name": "stdout",
     "output_type": "stream",
     "text": [
      "     Energy  Relative Error\n",
      "0  0.087266    0.000000e+00\n",
      "1  5.008727    9.825771e-01\n",
      "2  5.500235    8.936133e-02\n",
      "3  5.549179    8.820068e-03\n",
      "4  5.554051    8.771396e-04\n",
      "5  5.554536    8.729492e-05\n",
      "6  5.554584    8.688430e-06\n",
      "7  5.554589    8.647626e-07\n",
      "8  5.554589    8.607020e-08\n"
     ]
    }
   ],
   "source": [
    "# Q1 - Iterative solver\n",
    "# E_i+1 = M + e * sin(E_i)\n",
    "\n",
    "E_arr = [E_0] # Energy array\n",
    "rel_error_arr = [0] # relative Error array\n",
    "\n",
    "while(True):\n",
    "    E_i = E_arr[-1] * (np.pi / 180) # convert to radians\n",
    "    E_tmp = M + e * np.sin(E_i)\n",
    "    \n",
    "    rel_error = (E_tmp - E_i) / E_tmp\n",
    "    \n",
    "    E_arr.append(E_tmp / (np.pi / 180)) # convert to degrees\n",
    "    rel_error_arr.append(rel_error) # unit less\n",
    "    \n",
    "    if( (np.abs(E_tmp - E_i) / (np.pi / 180)) <= 0.000001):\n",
    "        break\n",
    "\n",
    "df = pd.DataFrame(E_arr, columns = ['Energy'])\n",
    "df['Relative Error'] = rel_error_arr\n",
    "print(df)\n",
    "df.to_csv('data/module05-prob01-output.csv', index = False)"
   ]
  },
  {
   "cell_type": "code",
   "execution_count": 44,
   "id": "d183f89b-a00b-4867-a605-c9dcc426686e",
   "metadata": {},
   "outputs": [
    {
     "name": "stdout",
     "output_type": "stream",
     "text": [
      "     Energy  Relative Error\n",
      "0  5.000000    0.000000e+00\n",
      "1  5.554616    9.984780e-02\n",
      "2  5.554589   -4.849901e-06\n",
      "3  5.554589   -1.231089e-14\n"
     ]
    }
   ],
   "source": [
    "# Q2 - Newton-Raphson\n",
    "# E_i+1 = E_i - f(E_i)/f'(E_i)\n",
    "\n",
    "\n",
    "E_arr = [E_0 / (np.pi / 180)] # Energy array\n",
    "rel_error_arr = [0] # relative Error array\n",
    "\n",
    "while(True):\n",
    "    E_i = E_arr[-1] * (np.pi / 180) # convert to radians\n",
    "    E_tmp = E_i - f(E_i) / f_prime(E_i)\n",
    "    \n",
    "    rel_error = (E_tmp - E_i) / E_tmp\n",
    "    \n",
    "    E_arr.append(E_tmp / (np.pi / 180)) # convert to degrees\n",
    "    rel_error_arr.append(rel_error) # unit less\n",
    "    \n",
    "    if( (np.abs(E_tmp - E_i) / (np.pi / 180)) <= 0.000001):\n",
    "        break\n",
    "\n",
    "df = pd.DataFrame(E_arr, columns = ['Energy'])\n",
    "df['Relative Error'] = rel_error_arr\n",
    "print(df)\n",
    "df.to_csv('data/module05-prob02-output.csv', index = False)"
   ]
  },
  {
   "cell_type": "code",
   "execution_count": 45,
   "id": "80e1a045-8995-414d-aeb7-3495b924dd2b",
   "metadata": {},
   "outputs": [
    {
     "name": "stdout",
     "output_type": "stream",
     "text": [
      "     Energy  Relative Error\n",
      "0  5.000000    0.000000e+00\n",
      "1  5.554589    9.984343e-02\n",
      "2  5.554589    4.598875e-11\n"
     ]
    }
   ],
   "source": [
    "# Q3 - Modified Newton-Raphson\n",
    "# E_i+1 = E_i + delta_i3\n",
    "\n",
    "def deltai1(E):\n",
    "    deltai = -1 * f(E) / f_prime(E)\n",
    "    return deltai\n",
    "    \n",
    "def deltai2(E):\n",
    "    deltai = -1 * f(E) / (f_prime(E) + 0.5 * deltai1(E) * f_2prime(E))\n",
    "    return deltai\n",
    "    \n",
    "def deltai3(E):\n",
    "    # deltai2 = deltai2(E)\n",
    "    deltai = -1 * f(E) / (f_prime(E) + (0.5 * deltai2(E) * f_2prime(E)) + (deltai2(E)**2 * f_3prime(E) / 6))\n",
    "    return deltai\n",
    "\n",
    "E_arr = [E_0 / (np.pi / 180)] # Energy array\n",
    "rel_error_arr = [0] # relative Error array\n",
    "\n",
    "while(True):\n",
    "    E_i = E_arr[-1] * (np.pi / 180) # convert to radians\n",
    "    E_tmp = E_i + deltai3(E_i)\n",
    "    \n",
    "    rel_error = (E_tmp - E_i) / E_tmp\n",
    "    \n",
    "    E_arr.append(E_tmp / (np.pi / 180)) # convert to degrees\n",
    "    rel_error_arr.append(rel_error) # unit less\n",
    "    \n",
    "    if( (np.abs(E_tmp - E_i) / (np.pi / 180)) <= 0.000001):\n",
    "        break\n",
    "\n",
    "df = pd.DataFrame(E_arr, columns = ['Energy'])\n",
    "df['Relative Error'] = rel_error_arr\n",
    "print(df)\n",
    "df.to_csv('data/module05-prob03-output.csv', index = False)"
   ]
  },
  {
   "cell_type": "code",
   "execution_count": null,
   "id": "e5bfceed-9236-46dc-80f5-21767f72ee13",
   "metadata": {},
   "outputs": [],
   "source": []
  }
 ],
 "metadata": {
  "kernelspec": {
   "display_name": "Python (My eaps591f22 Kernel)",
   "language": "python",
   "name": "eaps591f22"
  },
  "language_info": {
   "codemirror_mode": {
    "name": "ipython",
    "version": 3
   },
   "file_extension": ".py",
   "mimetype": "text/x-python",
   "name": "python",
   "nbconvert_exporter": "python",
   "pygments_lexer": "ipython3",
   "version": "3.8.5"
  }
 },
 "nbformat": 4,
 "nbformat_minor": 5
}
